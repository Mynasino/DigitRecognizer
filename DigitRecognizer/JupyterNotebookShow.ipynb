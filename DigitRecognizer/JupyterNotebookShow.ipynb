{
 "cells": [
  {
   "cell_type": "code",
   "execution_count": 1,
   "metadata": {},
   "outputs": [],
   "source": [
    "import GraphBuilder\n",
    "import Trainer"
   ]
  },
  {
   "cell_type": "code",
   "execution_count": 2,
   "metadata": {},
   "outputs": [],
   "source": [
    "graph = GraphBuilder.tf_graph_builder(std=0.01)"
   ]
  },
  {
   "cell_type": "code",
   "execution_count": 3,
   "metadata": {},
   "outputs": [],
   "source": [
    "trainer = Trainer.tf_trainer()"
   ]
  },
  {
   "cell_type": "code",
   "execution_count": 4,
   "metadata": {
    "scrolled": true
   },
   "outputs": [
    {
     "name": "stdout",
     "output_type": "stream",
     "text": [
      "epoch 0 train loss 0.862179 acc 0.715474 test loss 0.559015 acc 0.808760\n",
      "epoch 1 train loss 0.265716 acc 0.930959 test loss 0.401560 acc 0.866439\n",
      "epoch 2 train loss 0.186388 acc 0.957023 test loss 0.345741 acc 0.895030\n",
      "epoch 3 train loss 0.153089 acc 0.966251 test loss 0.274967 acc 0.915060\n",
      "epoch 4 train loss 0.135034 acc 0.970982 test loss 0.271391 acc 0.918052\n",
      "epoch 5 train loss 0.123777 acc 0.973170 test loss 0.290923 acc 0.908743\n",
      "epoch 6 train loss 0.115348 acc 0.974702 test loss 0.242338 acc 0.924867\n",
      "epoch 7 train loss 0.108683 acc 0.976546 test loss 0.229225 acc 0.931516\n",
      "epoch 8 train loss 0.102381 acc 0.978845 test loss 0.233498 acc 0.927028\n",
      "epoch 9 train loss 0.099814 acc 0.979111 test loss 0.225178 acc 0.929106\n"
     ]
    }
   ],
   "source": [
    "trainer.train(graph, n_epoch=10, learning_rate=0.01, batch_size=64, n_train=30000)"
   ]
  },
  {
   "cell_type": "code",
   "execution_count": 5,
   "metadata": {
    "collapsed": true
   },
   "outputs": [],
   "source": [
    "%matplotlib inline\n",
    "import matplotlib.pyplot as plt"
   ]
  },
  {
   "cell_type": "code",
   "execution_count": 6,
   "metadata": {},
   "outputs": [],
   "source": [
    "#定义预测图片开始与结束的位置\n",
    "start = 30020\n",
    "end = 30040\n",
    "\n",
    "feed_X = trainer.DataLoad.all_X[start:end]\n",
    "feed_Y = trainer.DataLoad.all_Y[start:end]\n",
    "\n",
    "pridict_Y = trainer.output(graph, feed_X)"
   ]
  },
  {
   "cell_type": "code",
   "execution_count": 7,
   "metadata": {},
   "outputs": [
    {
     "data": {
      "text/plain": [
       "array([2, 1, 9, 7, 4, 2, 8, 6, 0, 4, 0, 6, 9, 4, 4, 6, 0, 7, 3, 4])"
      ]
     },
     "execution_count": 7,
     "metadata": {},
     "output_type": "execute_result"
    }
   ],
   "source": [
    "pridict_Y"
   ]
  },
  {
   "cell_type": "code",
   "execution_count": 8,
   "metadata": {},
   "outputs": [
    {
     "data": {
      "image/png": "[encoded data removed]",
      "text/plain": [
       "<matplotlib.figure.Figure at 0x7fe64c4785f8>"
      ]
     },
     "metadata": {},
     "output_type": "display_data"
    }
   ],
   "source": [
    "fig, axes = plt.subplots(4,5)\n",
    "axes = axes.ravel()\n",
    "for i in range(20):\n",
    "    axes[i].imshow(feed_X[i].reshape((28,28)), cmap=\"gray\")\n",
    "    axes[i].set_xticks([])\n",
    "    axes[i].set_yticks([])"
   ]
  },
  {
   "cell_type": "code",
   "execution_count": null,
   "metadata": {
    "collapsed": true
   },
   "outputs": [],
   "source": []
  }
 ],
 "metadata": {
  "kernelspec": {
   "display_name": "Python 3",
   "language": "python",
   "name": "python3"
  },
  "language_info": {
   "codemirror_mode": {
    "name": "ipython",
    "version": 3
   },
   "file_extension": ".py",
   "mimetype": "text/x-python",
   "name": "python",
   "nbconvert_exporter": "python",
   "pygments_lexer": "ipython3",
   "version": "3.6.3"
  }
 },
 "nbformat": 4,
 "nbformat_minor": 2
}
